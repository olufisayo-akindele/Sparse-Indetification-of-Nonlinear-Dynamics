{
 "cells": [
  {
   "cell_type": "code",
   "execution_count": 2,
   "metadata": {},
   "outputs": [],
   "source": [
    "import pandas as pd\n",
    "import matplotlib.pyplot as plt\n",
    "import numpy as np\n",
    "from pathlib import Path\n",
    "from derivative import dxdt\n",
    "from scipy.integrate import solve_ivp"
   ]
  },
  {
   "cell_type": "code",
   "execution_count": null,
   "metadata": {},
   "outputs": [],
   "source": []
  },
  {
   "cell_type": "code",
   "execution_count": 3,
   "metadata": {},
   "outputs": [],
   "source": [
    "class SINDY:\n",
    "    def __init__(self,U,T,u0,T_traj=0,fit_time=False,derivation=\"total\",POLYNOMIAL_ORDER = 2,USE_TRIG = False,THRESHOLD = 0.025,MAX_ITERATIONS = 10):\n",
    "        self.u=U\n",
    "        self.t=T\n",
    "        self.u0=u0\n",
    "        self.polynomial_order=POLYNOMIAL_ORDER\n",
    "        self.use_trig=USE_TRIG\n",
    "        self.threshold=THRESHOLD\n",
    "        self.max_iterations=MAX_ITERATIONS\n",
    "        self.derivation=derivation\n",
    "        self.uprime_1=self.calculate_total_variation_derivatives()\n",
    "        self.uprime_2=self.calculate_finite_difference_derivatives()\n",
    "        self.theta=self.create_library(u=self.u)\n",
    "        self.xi=self.calculate_regression()\n",
    "        self.T_traj=T_traj\n",
    "        self.fit_time=fit_time\n",
    "        \n",
    "\n",
    "        \n",
    "\n",
    "    def create_library(self,u) -> np.ndarray:\n",
    "        \n",
    "        \"\"\"Creates a matrix containing a library of candidate functions.\n",
    "        For example, if our u depends on x, y, and z, and we specify\n",
    "        polynomial_order=2 and use_trig=false, our terms would be:\n",
    "        1, x, y, z, x^2, xy, xz, y^2, yz, z^2.\"\"\"\n",
    "\n",
    "\n",
    "        (m,n) = u.shape\n",
    "        theta = np.ones((m, 1))\n",
    "\n",
    "        # Polynomials of order 1.\n",
    "        theta = np.hstack((theta, u))\n",
    "\n",
    "        # Polynomials of order 2.\n",
    "        if self.polynomial_order >= 2:\n",
    "            for i in range(n):\n",
    "                for j in range(i, n):\n",
    "                    theta = np.hstack((theta, u[:, i:i + 1] * u[:, j:j + 1]))\n",
    "\n",
    "        # Polynomials of order 3.\n",
    "        if self.polynomial_order >= 3:\n",
    "            for i in range(n):\n",
    "                for j in range(i, n):\n",
    "                    for k in range(j, n):\n",
    "                        theta = np.hstack(\n",
    "                            (theta, u[:, i:i + 1] * u[:, j:j + 1] * u[:, k:k + 1]))\n",
    "\n",
    "        # Polynomials of order 4.\n",
    "        if self.polynomial_order >= 4:\n",
    "            for i in range(n):\n",
    "                for j in range(i, n):\n",
    "                    for k in range(j, n):\n",
    "                        for l in range(k, n):\n",
    "                            theta = np.hstack(\n",
    "                                (theta, u[:, i:i + 1] * u[:, j:j + 1] *\n",
    "                                 u[:, k:k + 1] * u[:, l:l + 1]))\n",
    "\n",
    "        # Polynomials of order 5.\n",
    "        if self.polynomial_order >= 5:\n",
    "            for i in range(n):\n",
    "                for j in range(i, n):\n",
    "                    for k in range(j, n):\n",
    "                        for l in range(k, n):\n",
    "                            for m in range(l, n):\n",
    "                                theta = np.hstack(\n",
    "                                    (theta, u[:, i:i + 1] * u[:, j:j + 1] *\n",
    "                                    u[:, k:k + 1] * u[:, l:l + 1] * u[:, m:m + 1]))\n",
    "\n",
    "        if self.use_trig:\n",
    "            for i in range(1, 11):\n",
    "                theta = np.hstack((theta, np.sin(i * u), np.cos(i * u)))\n",
    "\n",
    "        return (theta)\n",
    "\n",
    "    def calculate_finite_difference_derivatives(self):\n",
    "        \"\"\"Calculates the derivatives of u using finite differences.\n",
    "\n",
    "        Finite difference derivatives are quick and simple to calculate. They\n",
    "        may not do as well as total variation derivatives at denoising\n",
    "        derivatives in general, but in our simple non-noisy scenario, they\n",
    "        do just as well.\n",
    "        \"\"\"\n",
    "        uprime = dxdt(self.u.T, self.t, kind=\"finite_difference\", k=1).T\n",
    "        row,col=self.u.shape\n",
    "        uprime=uprime.reshape(row,col)\n",
    "        \n",
    "        return (uprime)\n",
    "\n",
    "\n",
    "    def calculate_total_variation_derivatives(self):\n",
    "        \"\"\"Calculates the derivatives of u using the \"total variation\n",
    "        derivatives with regularization\" technique.\n",
    "\n",
    "        The paper recommends using the \"total variation\n",
    "        derivatives with regularization\" technique, because it's effective\n",
    "        at denoising the derivatives. This technique has been implemented in the\n",
    "        \"derivative\" package, so we'll use this API.\n",
    "\n",
    "        This takes several minutes to run.\n",
    "        \"\"\"\n",
    "        uprime = dxdt(self.u.T, self.t, kind=\"trend_filtered\", order=0, alpha=1e-2)\n",
    "        \n",
    "        row,col=self.u.shape\n",
    "        uprime=uprime.reshape(row,col)\n",
    "        return uprime\n",
    "    \n",
    "    def calculate_regression(self) -> np.ndarray:\n",
    "        \"\"\"Finds a xi matrix that fits theta * xi = uprime, using the sequential\n",
    "        thresholded least-squares algorithm, which is a regression algorithm that\n",
    "        promotes sparsity.\n",
    "\n",
    "        The authors of the SINDy paper designed this algorithm as an alternative\n",
    "        to LASSO, because they found LASSO to be algorithmically unstable, and\n",
    "        computationally expensive for very large data sets.\n",
    "        \"\"\"\n",
    "        if self.derivation==\"finite\":\n",
    "            uprime=self.uprime_2\n",
    "            uprime=uprime.astype('float64')\n",
    "        elif self.derivation==\"total\":\n",
    "            uprime=self.uprime_1\n",
    "            \n",
    "        \n",
    "        # Solve theta * xi = uprime in the least-squares sense.\n",
    "        xi = np.linalg.lstsq(self.theta, uprime, rcond=None)[0]\n",
    "        n = xi.shape[1]\n",
    "        \n",
    "\n",
    "        # Add sparsity.\n",
    "        for _ in range(self.max_iterations):\n",
    "            small_indices = np.abs(xi) < self.threshold\n",
    "            xi[small_indices] = 0\n",
    "            for j in range(n):\n",
    "                big_indices = np.logical_not(small_indices[:, j])\n",
    "                xi[big_indices, j] = np.linalg.lstsq(self.theta[:, big_indices],\n",
    "                                                    uprime[:, j],\n",
    "                                                    rcond=None)[0]\n",
    "\n",
    "        return xi\n",
    "    def approximation(self,_: float, u: np.ndarray) -> np.ndarray:\n",
    "        \"\"\"For a given 1 x 3 u vector, this function calculates the corresponding\n",
    "        1 x n row of the theta matrix, and multiples that theta row by the n x 3 xi.\n",
    "        The result is the corresponding 1 x 3 du/dt vector.\n",
    "        \"\"\"\n",
    "        _,col=self.u.shape\n",
    "        \n",
    "        create_library=self.create_library\n",
    "        theta = create_library(u=u.reshape((1, col)))\n",
    "        \n",
    "        return theta @ self.xi\n",
    "\n",
    "\n",
    "    def compute_trajectory(self) -> np.ndarray:\n",
    "        \"\"\"Calculates the trajectory of the model discovered by SINDy.\n",
    "\n",
    "        Given an initial value for u, we call the lorenz_approximation function\n",
    "        to calculate the corresponding du/dt. Then, using a numerical method,\n",
    "        solve_ivp uses that derivative to calculate the next value of u, using the\n",
    "        xi matrix discovered by SINDy. This process repeats, until we have all\n",
    "        values of the u trajectory.\n",
    "        \"\"\"\n",
    "        #t0 = 0.001\n",
    "        #dt = 0.001\n",
    "        #tmax = 100\n",
    "        #n = int(tmax / dt + 1)\n",
    "\n",
    "        #t = np.linspace(start=t0, stop=tmax, num=n)\n",
    "        if self.fit_time==False:\n",
    "            time=self.t.flatten()\n",
    "        else:\n",
    "            time=self.T_traj.flatten()\n",
    "            \n",
    "        t0 = time[0]\n",
    "        tmax = time[-1]\n",
    "        #dt = 1\n",
    "        #n = int(tmax / dt + 1)\n",
    "        #t = np.linspace(start=t0, stop=tmax, num=n)\n",
    "       \n",
    "        result = solve_ivp(fun=self.approximation,\n",
    "                        t_span=(t0, tmax),\n",
    "                        y0=self.u0,\n",
    "                        t_eval=time)#,\n",
    "                        #args=(self.xi))#, self.polynomial_order, self.use_trig))\n",
    "        u = result.y.T\n",
    "        status=result.status\n",
    "        print(status)\n",
    "        return u\n",
    "        \n",
    "\n"
   ]
  },
  {
   "cell_type": "code",
   "execution_count": 4,
   "metadata": {},
   "outputs": [],
   "source": [
    "def plot_org_sim(org,sim,legend):\n",
    "    plt.figure(figsize=(12, 7))\n",
    "    for i in range(org.shape[1]):\n",
    "        plt.plot(org[:,i],label=legend[i]+\"Initial Data\")\n",
    "        plt.plot(sim[:,i],label=legend[i]+\"Simulation\")\n",
    "    plt.legend()"
   ]
  },
  {
   "cell_type": "code",
   "execution_count": 5,
   "metadata": {},
   "outputs": [],
   "source": [
    "def Plotting_covid(x,y,approximation=False,u_approximation=0):\n",
    "    plt.figure(figsize=(12, 7))\n",
    "    plt.plot(x, y, marker='.', color='blue')\n",
    "    if approximation==True:\n",
    "        plt.plot(x, u_approximation, marker='.', color='red')\n",
    "    plt.title('Increase of Infection Over First 50 Days for Diamond Princess')\n",
    "    plt.xlabel('Day (Since First Case)')\n",
    "    plt.ylabel('Number of Confirmed Cases')\n",
    "    #plt.grid(True, which='both', linestyle='--', linewidth=0.5)\n",
    "    plt.tight_layout()\n",
    "    plt.show()\n"
   ]
  },
  {
   "cell_type": "code",
   "execution_count": 6,
   "metadata": {},
   "outputs": [],
   "source": [
    "def CalcAccuracy(Actual_Y, Predicted_y):\n",
    "    \n",
    "    actual_values=Actual_Y\n",
    "    predicted_values=np.array(Predicted_y)\n",
    "    error= abs(actual_values-predicted_values)\n",
    "    mse=np.mean(np.square(error))\n",
    "    rel_err=mse/np.mean(np.square(actual_values))\n",
    "    accuracy=1-rel_err\n",
    "    return(accuracy)"
   ]
  },
  {
   "cell_type": "code",
   "execution_count": 7,
   "metadata": {},
   "outputs": [],
   "source": [
    "# Load the file using pandas\n",
    "corona_data = pd.read_csv('corona_data.dat', sep=\"\\t\", engine='python')  # Assuming tab-separated data\n",
    "# Filter the data for \"Diamond Princess\"\n",
    "diamond_princess_data = corona_data[corona_data['LOCATION'] == 'Diamond Princess']\n",
    "\n"
   ]
  },
  {
   "cell_type": "code",
   "execution_count": 8,
   "metadata": {},
   "outputs": [
    {
     "data": {
      "text/html": [
       "<div>\n",
       "<style scoped>\n",
       "    .dataframe tbody tr th:only-of-type {\n",
       "        vertical-align: middle;\n",
       "    }\n",
       "\n",
       "    .dataframe tbody tr th {\n",
       "        vertical-align: top;\n",
       "    }\n",
       "\n",
       "    .dataframe thead th {\n",
       "        text-align: right;\n",
       "    }\n",
       "</style>\n",
       "<table border=\"1\" class=\"dataframe\">\n",
       "  <thead>\n",
       "    <tr style=\"text-align: right;\">\n",
       "      <th></th>\n",
       "      <th>LOCATION</th>\n",
       "      <th>TIME</th>\n",
       "      <th>ELAPSED_TIME_SINCE_OUTBREAK</th>\n",
       "      <th>CONFIRMED</th>\n",
       "      <th>DEATHS</th>\n",
       "      <th>RECOVERED</th>\n",
       "    </tr>\n",
       "  </thead>\n",
       "  <tbody>\n",
       "    <tr>\n",
       "      <th>11260</th>\n",
       "      <td>Diamond Princess</td>\n",
       "      <td>2020-02-07 23:59:00</td>\n",
       "      <td>0</td>\n",
       "      <td>61</td>\n",
       "      <td>0</td>\n",
       "      <td>0</td>\n",
       "    </tr>\n",
       "    <tr>\n",
       "      <th>11261</th>\n",
       "      <td>Diamond Princess</td>\n",
       "      <td>2020-02-08 23:59:00</td>\n",
       "      <td>1</td>\n",
       "      <td>61</td>\n",
       "      <td>0</td>\n",
       "      <td>0</td>\n",
       "    </tr>\n",
       "    <tr>\n",
       "      <th>11262</th>\n",
       "      <td>Diamond Princess</td>\n",
       "      <td>2020-02-09 23:59:00</td>\n",
       "      <td>2</td>\n",
       "      <td>64</td>\n",
       "      <td>0</td>\n",
       "      <td>0</td>\n",
       "    </tr>\n",
       "    <tr>\n",
       "      <th>11263</th>\n",
       "      <td>Diamond Princess</td>\n",
       "      <td>2020-02-10 23:59:00</td>\n",
       "      <td>3</td>\n",
       "      <td>135</td>\n",
       "      <td>0</td>\n",
       "      <td>0</td>\n",
       "    </tr>\n",
       "    <tr>\n",
       "      <th>11264</th>\n",
       "      <td>Diamond Princess</td>\n",
       "      <td>2020-02-11 23:59:00</td>\n",
       "      <td>4</td>\n",
       "      <td>135</td>\n",
       "      <td>0</td>\n",
       "      <td>0</td>\n",
       "    </tr>\n",
       "    <tr>\n",
       "      <th>...</th>\n",
       "      <td>...</td>\n",
       "      <td>...</td>\n",
       "      <td>...</td>\n",
       "      <td>...</td>\n",
       "      <td>...</td>\n",
       "      <td>...</td>\n",
       "    </tr>\n",
       "    <tr>\n",
       "      <th>11517</th>\n",
       "      <td>Diamond Princess</td>\n",
       "      <td>2020-10-21 23:59:00</td>\n",
       "      <td>257</td>\n",
       "      <td>712</td>\n",
       "      <td>13</td>\n",
       "      <td>659</td>\n",
       "    </tr>\n",
       "    <tr>\n",
       "      <th>11518</th>\n",
       "      <td>Diamond Princess</td>\n",
       "      <td>2020-10-22 23:59:00</td>\n",
       "      <td>258</td>\n",
       "      <td>712</td>\n",
       "      <td>13</td>\n",
       "      <td>659</td>\n",
       "    </tr>\n",
       "    <tr>\n",
       "      <th>11519</th>\n",
       "      <td>Diamond Princess</td>\n",
       "      <td>2020-10-23 23:59:00</td>\n",
       "      <td>259</td>\n",
       "      <td>712</td>\n",
       "      <td>13</td>\n",
       "      <td>659</td>\n",
       "    </tr>\n",
       "    <tr>\n",
       "      <th>11520</th>\n",
       "      <td>Diamond Princess</td>\n",
       "      <td>2020-10-24 23:59:00</td>\n",
       "      <td>260</td>\n",
       "      <td>712</td>\n",
       "      <td>13</td>\n",
       "      <td>659</td>\n",
       "    </tr>\n",
       "    <tr>\n",
       "      <th>11521</th>\n",
       "      <td>Diamond Princess</td>\n",
       "      <td>2020-10-25 23:59:00</td>\n",
       "      <td>261</td>\n",
       "      <td>712</td>\n",
       "      <td>13</td>\n",
       "      <td>659</td>\n",
       "    </tr>\n",
       "  </tbody>\n",
       "</table>\n",
       "<p>262 rows × 6 columns</p>\n",
       "</div>"
      ],
      "text/plain": [
       "               LOCATION                 TIME  ELAPSED_TIME_SINCE_OUTBREAK  \\\n",
       "11260  Diamond Princess  2020-02-07 23:59:00                            0   \n",
       "11261  Diamond Princess  2020-02-08 23:59:00                            1   \n",
       "11262  Diamond Princess  2020-02-09 23:59:00                            2   \n",
       "11263  Diamond Princess  2020-02-10 23:59:00                            3   \n",
       "11264  Diamond Princess  2020-02-11 23:59:00                            4   \n",
       "...                 ...                  ...                          ...   \n",
       "11517  Diamond Princess  2020-10-21 23:59:00                          257   \n",
       "11518  Diamond Princess  2020-10-22 23:59:00                          258   \n",
       "11519  Diamond Princess  2020-10-23 23:59:00                          259   \n",
       "11520  Diamond Princess  2020-10-24 23:59:00                          260   \n",
       "11521  Diamond Princess  2020-10-25 23:59:00                          261   \n",
       "\n",
       "       CONFIRMED  DEATHS  RECOVERED  \n",
       "11260         61       0          0  \n",
       "11261         61       0          0  \n",
       "11262         64       0          0  \n",
       "11263        135       0          0  \n",
       "11264        135       0          0  \n",
       "...          ...     ...        ...  \n",
       "11517        712      13        659  \n",
       "11518        712      13        659  \n",
       "11519        712      13        659  \n",
       "11520        712      13        659  \n",
       "11521        712      13        659  \n",
       "\n",
       "[262 rows x 6 columns]"
      ]
     },
     "execution_count": 8,
     "metadata": {},
     "output_type": "execute_result"
    }
   ],
   "source": [
    "diamond_princess_data"
   ]
  },
  {
   "cell_type": "code",
   "execution_count": 9,
   "metadata": {},
   "outputs": [
    {
     "name": "stderr",
     "output_type": "stream",
     "text": [
      "C:\\Users\\fisay\\AppData\\Local\\Temp\\ipykernel_21220\\475064246.py:2: SettingWithCopyWarning: \n",
      "A value is trying to be set on a copy of a slice from a DataFrame.\n",
      "Try using .loc[row_indexer,col_indexer] = value instead\n",
      "\n",
      "See the caveats in the documentation: https://pandas.pydata.org/pandas-docs/stable/user_guide/indexing.html#returning-a-view-versus-a-copy\n",
      "  diamond_princess_data['Day'] = range(1, len(diamond_princess_data) + 1)\n"
     ]
    }
   ],
   "source": [
    "#create day column\n",
    "diamond_princess_data['Day'] = range(1, len(diamond_princess_data) + 1)\n",
    "# Filter the Diamond Princess data for the first 50 days\n",
    "diamond_princess_first_50_days = diamond_princess_data[diamond_princess_data['Day'] <= 50]"
   ]
  },
  {
   "cell_type": "code",
   "execution_count": 10,
   "metadata": {},
   "outputs": [],
   "source": [
    "U=diamond_princess_first_50_days['CONFIRMED'].to_numpy()\n",
    "U=U.reshape(50,1)\n",
    "T=diamond_princess_first_50_days['Day'].to_numpy()\n",
    "T=T.reshape(50,1)\n",
    "u0=U[0]"
   ]
  },
  {
   "cell_type": "markdown",
   "metadata": {},
   "source": [
    "## E"
   ]
  },
  {
   "cell_type": "markdown",
   "metadata": {},
   "source": [
    "#### Pa"
   ]
  },
  {
   "cell_type": "code",
   "execution_count": 11,
   "metadata": {},
   "outputs": [
    {
     "name": "stdout",
     "output_type": "stream",
     "text": [
      "0\n"
     ]
    },
    {
     "name": "stderr",
     "output_type": "stream",
     "text": [
      "c:\\ProgramData\\Anaconda3\\lib\\site-packages\\sklearn\\linear_model\\_coordinate_descent.py:647: ConvergenceWarning: Objective did not converge. You might want to increase the number of iterations, check the scale of the features or consider increasing regularisation. Duality gap: 1.222e+03, tolerance: 1.683e+02\n",
      "  model = cd_fast.enet_coordinate_descent(\n",
      "C:\\Users\\fisay\\AppData\\Roaming\\Python\\Python39\\site-packages\\derivative\\differentiation.py:199: VisibleDeprecationWarning: Creating an ndarray from ragged nested sequences (which is a list-or-tuple of lists-or-tuples-or ndarrays with different lengths or shapes) is deprecated. If you meant to do this, you must specify 'dtype=object' when creating the ndarray.\n",
      "  dX = np.array([list(self.compute_for(t, x, np.arange(len(t)))) for x in X])\n"
     ]
    }
   ],
   "source": [
    "\n",
    "testings=SINDY(U,T,u0,derivation=\"total\",POLYNOMIAL_ORDER = 1,USE_TRIG = False,THRESHOLD = 0.025,MAX_ITERATIONS = 10)\n",
    "u_approximation=testings.compute_trajectory()"
   ]
  },
  {
   "cell_type": "code",
   "execution_count": 12,
   "metadata": {},
   "outputs": [
    {
     "data": {
      "text/plain": [
       "array([[50.22021377],\n",
       "       [-0.06252625]])"
      ]
     },
     "execution_count": 12,
     "metadata": {},
     "output_type": "execute_result"
    }
   ],
   "source": [
    "testings.xi"
   ]
  },
  {
   "cell_type": "code",
   "execution_count": 13,
   "metadata": {},
   "outputs": [
    {
     "data": {
      "image/png": "[encoded data removed]",
      "text/plain": [
       "<Figure size 1200x700 with 1 Axes>"
      ]
     },
     "metadata": {},
     "output_type": "display_data"
    }
   ],
   "source": [
    "x=diamond_princess_first_50_days['Day']\n",
    "y=diamond_princess_first_50_days['CONFIRMED']\n",
    "Plotting_covid(x,y,approximation=True,u_approximation=u_approximation)"
   ]
  },
  {
   "cell_type": "code",
   "execution_count": 14,
   "metadata": {},
   "outputs": [
    {
     "name": "stderr",
     "output_type": "stream",
     "text": [
      "C:\\Users\\fisay\\AppData\\Local\\Temp\\ipykernel_21220\\362283398.py:3: SettingWithCopyWarning: \n",
      "A value is trying to be set on a copy of a slice from a DataFrame.\n",
      "Try using .loc[row_indexer,col_indexer] = value instead\n",
      "\n",
      "See the caveats in the documentation: https://pandas.pydata.org/pandas-docs/stable/user_guide/indexing.html#returning-a-view-versus-a-copy\n",
      "  diamond_princess_data['Day'] = range(1, len(diamond_princess_data) + 1)\n",
      "c:\\ProgramData\\Anaconda3\\lib\\site-packages\\sklearn\\linear_model\\_coordinate_descent.py:647: ConvergenceWarning: Objective did not converge. You might want to increase the number of iterations, check the scale of the features or consider increasing regularisation. Duality gap: 4.955e+03, tolerance: 1.655e+03\n",
      "  model = cd_fast.enet_coordinate_descent(\n"
     ]
    },
    {
     "name": "stdout",
     "output_type": "stream",
     "text": [
      "0\n"
     ]
    },
    {
     "name": "stderr",
     "output_type": "stream",
     "text": [
      "c:\\ProgramData\\Anaconda3\\lib\\site-packages\\sklearn\\linear_model\\_coordinate_descent.py:647: ConvergenceWarning: Objective did not converge. You might want to increase the number of iterations, check the scale of the features or consider increasing regularisation. Duality gap: 8.367e+00, tolerance: 2.670e-01\n",
      "  model = cd_fast.enet_coordinate_descent(\n",
      "c:\\ProgramData\\Anaconda3\\lib\\site-packages\\sklearn\\linear_model\\_coordinate_descent.py:647: ConvergenceWarning: Objective did not converge. You might want to increase the number of iterations, check the scale of the features or consider increasing regularisation. Duality gap: 8.575e+04, tolerance: 7.175e+02\n",
      "  model = cd_fast.enet_coordinate_descent(\n",
      "C:\\Users\\fisay\\AppData\\Roaming\\Python\\Python39\\site-packages\\derivative\\differentiation.py:199: VisibleDeprecationWarning: Creating an ndarray from ragged nested sequences (which is a list-or-tuple of lists-or-tuples-or ndarrays with different lengths or shapes) is deprecated. If you meant to do this, you must specify 'dtype=object' when creating the ndarray.\n",
      "  dX = np.array([list(self.compute_for(t, x, np.arange(len(t)))) for x in X])\n"
     ]
    }
   ],
   "source": [
    "#create day column\n",
    "n=200\n",
    "diamond_princess_data['Day'] = range(1, len(diamond_princess_data) + 1)\n",
    "# Filter the Diamond Princess data for the first 50 days\n",
    "diamond_princess_first_50_days = diamond_princess_data[diamond_princess_data['Day'] <= n]\n",
    "\n",
    "U_comp=diamond_princess_first_50_days[['CONFIRMED', 'DEATHS', 'RECOVERED']].to_numpy()\n",
    "U_comp=U_comp.reshape(n,3)\n",
    "T=diamond_princess_first_50_days['Day'].to_numpy()\n",
    "T=T.reshape(n,1)\n",
    "T_traj=diamond_princess_data['Day'].to_numpy()\n",
    "T_traj=T_traj.reshape(262,1)\n",
    "u0_comp=[61,0,0]\n",
    "testings2=SINDY(U=U_comp,T_traj=T_traj,fit_time=True,T=T,u0=u0_comp,derivation=\"finite\",POLYNOMIAL_ORDER = 1,USE_TRIG = False,THRESHOLD = 0.0001,MAX_ITERATIONS = 10)\n",
    "u_comp_approximation=testings2.compute_trajectory()"
   ]
  },
  {
   "cell_type": "code",
   "execution_count": 27,
   "metadata": {},
   "outputs": [],
   "source": [
    "U_comp=diamond_princess_data[diamond_princess_data['Day'] >= 0][['CONFIRMED', 'DEATHS', 'RECOVERED']].to_numpy()"
   ]
  },
  {
   "cell_type": "code",
   "execution_count": 28,
   "metadata": {},
   "outputs": [
    {
     "data": {
      "text/plain": [
       "array([[ 61,   0,   0],\n",
       "       [ 61,   0,   0],\n",
       "       [ 64,   0,   0],\n",
       "       [135,   0,   0],\n",
       "       [135,   0,   0],\n",
       "       [175,   0,   0],\n",
       "       [175,   0,   0],\n",
       "       [218,   0,   0],\n",
       "       [285,   0,   0],\n",
       "       [355,   0,   0],\n",
       "       [454,   0,   0],\n",
       "       [542,   0,   0],\n",
       "       [621,   0,   1],\n",
       "       [634,   2,   1],\n",
       "       [634,   2,   1],\n",
       "       [634,   2,   1],\n",
       "       [691,   3,   0],\n",
       "       [691,   3,   0],\n",
       "       [691,   3,   0],\n",
       "       [705,   4,  10],\n",
       "       [705,   4,  10],\n",
       "       [705,   6,  10],\n",
       "       [705,   6,  10],\n",
       "       [705,   6,  10],\n",
       "       [705,   6,  10],\n",
       "       [706,   6,  10],\n",
       "       [706,   6,  10],\n",
       "       [706,   6,  10],\n",
       "       [706,   6,  40],\n",
       "       [706,   6,  40],\n",
       "       [706,   6,  40],\n",
       "       [706,   6,  40],\n",
       "       [706,   6,  40],\n",
       "       [706,   7, 325],\n",
       "       [706,   7, 325],\n",
       "       [706,   7, 325],\n",
       "       [706,   7, 325],\n",
       "       [706,   7, 325],\n",
       "       [706,   7, 325],\n",
       "       [706,   7, 325],\n",
       "       [712,   7, 325],\n",
       "       [712,   7, 325],\n",
       "       [712,   7, 325],\n",
       "       [712,   8, 325],\n",
       "       [712,   8, 325],\n",
       "       [712,   8, 325],\n",
       "       [712,  10, 325],\n",
       "       [712,  10, 587],\n",
       "       [712,  10, 597],\n",
       "       [712,  10, 597],\n",
       "       [712,  10, 597],\n",
       "       [712,  10, 603],\n",
       "       [712,  10, 603],\n",
       "       [712,  10, 603],\n",
       "       [712,  11, 603],\n",
       "       [712,  11, 619],\n",
       "       [712,  11, 619],\n",
       "       [712,  11, 619],\n",
       "       [712,  11, 619],\n",
       "       [712,  11, 619],\n",
       "       [712,  11, 619],\n",
       "       [712,  11, 619],\n",
       "       [712,  11, 619],\n",
       "       [712,  11, 619],\n",
       "       [712,  11, 619],\n",
       "       [712,  11, 619],\n",
       "       [712,  11, 619],\n",
       "       [712,  12, 639],\n",
       "       [712,  12, 639],\n",
       "       [712,  12, 644],\n",
       "       [712,  13, 644],\n",
       "       [712,  13, 644],\n",
       "       [712,  13, 644],\n",
       "       [712,  13, 644],\n",
       "       [712,  13, 644],\n",
       "       [712,  13, 644],\n",
       "       [712,  13, 645],\n",
       "       [712,  13, 645],\n",
       "       [712,  13, 645],\n",
       "       [712,  13, 645],\n",
       "       [712,  13, 645],\n",
       "       [712,  13, 645],\n",
       "       [712,  13, 645],\n",
       "       [712,  13, 645],\n",
       "       [712,  13, 645],\n",
       "       [712,  13, 645],\n",
       "       [712,  13, 645],\n",
       "       [712,  13, 645],\n",
       "       [712,  13, 645],\n",
       "       [712,  13, 645],\n",
       "       [712,  13, 645],\n",
       "       [712,  13, 645],\n",
       "       [712,  13, 645],\n",
       "       [712,  13, 651],\n",
       "       [712,  13, 651],\n",
       "       [712,  13, 651],\n",
       "       [712,  13, 651],\n",
       "       [712,  13, 651],\n",
       "       [712,  13, 651],\n",
       "       [712,  13, 651],\n",
       "       [712,  13, 651],\n",
       "       [712,  13, 651],\n",
       "       [712,  13, 651],\n",
       "       [712,  13, 651],\n",
       "       [712,  13, 651],\n",
       "       [712,  13, 651],\n",
       "       [712,  13, 651],\n",
       "       [712,  13, 651],\n",
       "       [712,  13, 651],\n",
       "       [712,  13, 651],\n",
       "       [712,  13, 651],\n",
       "       [712,  13, 651],\n",
       "       [712,  13, 651],\n",
       "       [712,  13, 651],\n",
       "       [712,  13, 651],\n",
       "       [712,  13, 651],\n",
       "       [712,  13, 651],\n",
       "       [712,  13, 651],\n",
       "       [712,  13, 651],\n",
       "       [712,  13, 651],\n",
       "       [712,  13, 651],\n",
       "       [712,  13, 651],\n",
       "       [712,  13, 651],\n",
       "       [712,  13, 651],\n",
       "       [712,  13, 651],\n",
       "       [712,  13, 651],\n",
       "       [712,  13, 651],\n",
       "       [712,  13, 651],\n",
       "       [712,  13, 651],\n",
       "       [712,  13, 651],\n",
       "       [712,  13, 651],\n",
       "       [712,  13, 651],\n",
       "       [712,  13, 651],\n",
       "       [712,  13, 651],\n",
       "       [712,  13, 651],\n",
       "       [712,  13, 651],\n",
       "       [712,  13, 651],\n",
       "       [712,  13, 651],\n",
       "       [712,  13, 651],\n",
       "       [712,  13, 651],\n",
       "       [712,  13, 651],\n",
       "       [712,  13, 651],\n",
       "       [712,  13, 651],\n",
       "       [712,  13, 651],\n",
       "       [712,  13, 651],\n",
       "       [712,  13, 651],\n",
       "       [712,  13, 651],\n",
       "       [712,  13, 651],\n",
       "       [712,  13, 651],\n",
       "       [712,  13, 651],\n",
       "       [712,  13, 651],\n",
       "       [712,  13, 651],\n",
       "       [712,  13, 651],\n",
       "       [712,  13, 651],\n",
       "       [712,  13, 651],\n",
       "       [712,  13, 651],\n",
       "       [712,  13, 651],\n",
       "       [712,  13, 651],\n",
       "       [712,  13, 651],\n",
       "       [712,  13, 651],\n",
       "       [712,  13, 651],\n",
       "       [712,  13, 651],\n",
       "       [712,  13, 651],\n",
       "       [712,  13, 651],\n",
       "       [712,  13, 651],\n",
       "       [712,  13, 651],\n",
       "       [712,  13, 651],\n",
       "       [712,  13, 651],\n",
       "       [712,  13, 651],\n",
       "       [712,  13, 651],\n",
       "       [712,  13, 651],\n",
       "       [712,  13, 651],\n",
       "       [712,  13, 651],\n",
       "       [712,  13, 651],\n",
       "       [712,  13, 651],\n",
       "       [712,  13, 651],\n",
       "       [712,  13, 651],\n",
       "       [712,  13, 651],\n",
       "       [712,  13, 651],\n",
       "       [712,  13, 651],\n",
       "       [712,  13, 651],\n",
       "       [712,  13, 651],\n",
       "       [712,  13, 651],\n",
       "       [712,  13, 651],\n",
       "       [712,  13, 651],\n",
       "       [712,  13, 651],\n",
       "       [712,  13, 651],\n",
       "       [712,  13, 651],\n",
       "       [712,  13, 651],\n",
       "       [712,  13, 651],\n",
       "       [712,  13, 651],\n",
       "       [712,  13, 651],\n",
       "       [712,  13, 651],\n",
       "       [712,  13, 651],\n",
       "       [712,  13, 651],\n",
       "       [712,  13, 651],\n",
       "       [712,  13, 651],\n",
       "       [712,  13, 651],\n",
       "       [712,  13, 651],\n",
       "       [712,  13, 651],\n",
       "       [712,  13, 651],\n",
       "       [712,  13, 651],\n",
       "       [712,  13, 651],\n",
       "       [712,  13, 651],\n",
       "       [712,  13, 651],\n",
       "       [712,  13, 651],\n",
       "       [712,  13, 651],\n",
       "       [712,  13, 651],\n",
       "       [712,  13, 651],\n",
       "       [712,  13, 651],\n",
       "       [712,  13, 651],\n",
       "       [712,  13, 651],\n",
       "       [712,  13, 651],\n",
       "       [712,  13, 651],\n",
       "       [712,  13, 651],\n",
       "       [712,  13, 651],\n",
       "       [712,  13, 651],\n",
       "       [712,  13, 651],\n",
       "       [712,  13, 651],\n",
       "       [712,  13, 651],\n",
       "       [712,  13, 651],\n",
       "       [712,  13, 651],\n",
       "       [712,  13, 651],\n",
       "       [712,  13, 651],\n",
       "       [712,  13, 651],\n",
       "       [712,  13, 651],\n",
       "       [712,  13, 651],\n",
       "       [712,  13, 651],\n",
       "       [712,  13, 651],\n",
       "       [712,  13, 651],\n",
       "       [712,  13, 651],\n",
       "       [712,  13, 651],\n",
       "       [712,  13, 651],\n",
       "       [712,  13, 651],\n",
       "       [712,  13, 651],\n",
       "       [712,  13, 651],\n",
       "       [712,  13, 651],\n",
       "       [712,  13, 651],\n",
       "       [712,  13, 651],\n",
       "       [712,  13, 651],\n",
       "       [712,  13, 651],\n",
       "       [712,  13, 651],\n",
       "       [712,  13, 651],\n",
       "       [712,  13, 651],\n",
       "       [712,  13, 651],\n",
       "       [712,  13, 651],\n",
       "       [712,  13, 659],\n",
       "       [712,  13, 659],\n",
       "       [712,  13, 659],\n",
       "       [712,  13, 659],\n",
       "       [712,  13, 659],\n",
       "       [712,  13, 659],\n",
       "       [712,  13, 659],\n",
       "       [712,  13, 659],\n",
       "       [712,  13, 659],\n",
       "       [712,  13, 659],\n",
       "       [712,  13, 659],\n",
       "       [712,  13, 659],\n",
       "       [712,  13, 659],\n",
       "       [712,  13, 659],\n",
       "       [712,  13, 659],\n",
       "       [712,  13, 659]], dtype=int64)"
      ]
     },
     "execution_count": 28,
     "metadata": {},
     "output_type": "execute_result"
    }
   ],
   "source": [
    "U_comp"
   ]
  },
  {
   "cell_type": "code",
   "execution_count": 16,
   "metadata": {},
   "outputs": [
    {
     "data": {
      "text/plain": [
       "array([[716.17359422,  13.14488713, 701.73014761],\n",
       "       [716.37291456,  13.1521186 , 702.56880141],\n",
       "       [716.57976364,  13.15924333, 703.39674967],\n",
       "       [716.79338903,  13.16627197, 704.21450047],\n",
       "       [717.01291589,  13.17321503, 705.02257702],\n",
       "       [717.23734696,  13.18008293, 705.82151766],\n",
       "       [717.4655626 ,  13.18688597, 706.61187583],\n",
       "       [717.69632071,  13.19363431, 707.39422011],\n",
       "       [717.92825684,  13.20033805, 708.16913419],\n",
       "       [718.15988408,  13.20700713, 708.93721689],\n",
       "       [718.38959315,  13.21365139, 709.69908215],\n",
       "       [718.61565233,  13.22028056, 710.45535903],\n",
       "       [718.8362075 ,  13.22690426, 711.2066917 ],\n",
       "       [719.05073018,  13.23351672, 711.95303931],\n",
       "       [719.26727499,  13.24002939, 712.69045017],\n",
       "       [719.48719209,  13.24643829, 713.418641  ],\n",
       "       [719.71020209,  13.25275703, 714.13812936],\n",
       "       [719.93603046,  13.2589985 , 714.84940867],\n",
       "       [720.16440741,  13.26517485, 715.55294823],\n",
       "       [720.39506801,  13.27129748, 716.24919321],\n",
       "       [720.62775209,  13.27737705, 716.93856464],\n",
       "       [720.86220431,  13.28342347, 717.62145946],\n",
       "       [721.09817411,  13.28944594, 718.29825045],\n",
       "       [721.33541575,  13.29545287, 718.96928627],\n",
       "       [721.57368829,  13.30145196, 719.63489146],\n",
       "       [721.81275558,  13.30745017, 720.29536642],\n",
       "       [722.05238629,  13.3134537 , 720.95098744],\n",
       "       [722.29235388,  13.31946802, 721.60200667],\n",
       "       [722.53243661,  13.32549786, 722.24865215],\n",
       "       [722.77241756,  13.3315472 , 722.89112776],\n",
       "       [723.01208458,  13.33761929, 723.52961329],\n",
       "       [723.25123037,  13.34371662, 724.16426438],\n",
       "       [723.48965238,  13.34984096, 724.79521255],\n",
       "       [723.72715291,  13.35599331, 725.42256519],\n",
       "       [723.96353902,  13.36217397, 726.04640557],\n",
       "       [724.19862261,  13.36838245, 726.66679283],\n",
       "       [724.43222035,  13.37461755, 727.28376197],\n",
       "       [724.66415374,  13.38087733, 727.89732389],\n",
       "       [724.89424906,  13.38715909, 728.50746534],\n",
       "       [725.1223374 ,  13.39345939, 729.11414895],\n",
       "       [725.34825467,  13.39977406, 729.71731322],\n",
       "       [725.57184155,  13.40609819, 730.31687253],\n",
       "       [725.79294355,  13.41242611, 730.91271713],\n",
       "       [726.01141097,  13.41875142, 731.50471314],\n",
       "       [726.22709891,  13.42506699, 732.09270255],\n",
       "       [726.43986728,  13.43136492, 732.67650324],\n",
       "       [726.64958079,  13.4376366 , 733.25590895],\n",
       "       [726.85610895,  13.44387264, 733.83068928],\n",
       "       [727.05932607,  13.45006296, 734.40058973],\n",
       "       [727.25911127,  13.45619668, 734.96533165],\n",
       "       [727.45534847,  13.46226222, 735.52461229],\n",
       "       [727.64792638,  13.46824725, 736.07810474],\n",
       "       [727.83673854,  13.47413868, 736.62545798],\n",
       "       [728.02168327,  13.4799227 , 737.16629687],\n",
       "       [728.20266369,  13.48558475, 737.70022213],\n",
       "       [728.37958774,  13.49110953, 738.22681036],\n",
       "       [728.55244832,  13.49648536, 738.74573676],\n",
       "       [728.72275173,  13.50178547, 739.25906731],\n",
       "       [728.89109805,  13.50704127, 739.76771534],\n",
       "       [729.05749099,  13.51225267, 740.2717122 ],\n",
       "       [729.22193613,  13.51741958, 740.77108891],\n",
       "       [729.38444094,  13.52254193, 741.26587615]])"
      ]
     },
     "execution_count": 16,
     "metadata": {},
     "output_type": "execute_result"
    }
   ],
   "source": [
    "u_comp_approximation[200:]"
   ]
  },
  {
   "cell_type": "code",
   "execution_count": null,
   "metadata": {},
   "outputs": [],
   "source": []
  },
  {
   "cell_type": "code",
   "execution_count": 175,
   "metadata": {},
   "outputs": [
    {
     "name": "stdout",
     "output_type": "stream",
     "text": [
      "[[ 3.63380134e+01 -1.38828225e-01 -5.42582747e+00]\n",
      " [-1.06098850e-02  8.71055867e-04  2.71498853e-02]\n",
      " [-4.80815666e+00 -3.63397889e-02 -7.20804448e-02]\n",
      " [ 4.93489724e-02  0.00000000e+00 -1.74156985e-02]]\n"
     ]
    },
    {
     "data": {
      "image/png": "[encoded data removed]",
      "text/plain": [
       "<Figure size 1200x700 with 1 Axes>"
      ]
     },
     "metadata": {},
     "output_type": "display_data"
    }
   ],
   "source": [
    "print(testings2.xi)\n",
    "plot_org_sim(org=U_comp,sim=u_comp_approximation,legend=['Confirmed','Death','Recovered'])"
   ]
  },
  {
   "cell_type": "code",
   "execution_count": null,
   "metadata": {},
   "outputs": [],
   "source": [
    "d=diamond_princess_data[['CONFIRMED', 'DEATHS', 'RECOVERED']].to_numpy()[200:,:]\n",
    "x=u_comp_approximation[200:,:]\n"
   ]
  },
  {
   "cell_type": "code",
   "execution_count": 191,
   "metadata": {},
   "outputs": [
    {
     "data": {
      "text/plain": [
       "0.9945061727602895"
      ]
     },
     "execution_count": 191,
     "metadata": {},
     "output_type": "execute_result"
    }
   ],
   "source": [
    "CalcAccuracy(d, x)"
   ]
  },
  {
   "cell_type": "code",
   "execution_count": 165,
   "metadata": {},
   "outputs": [
    {
     "data": {
      "image/png": "[encoded data removed]",
      "text/plain": [
       "<Figure size 1200x700 with 1 Axes>"
      ]
     },
     "metadata": {},
     "output_type": "display_data"
    }
   ],
   "source": [
    "plt.figure(figsize=(12, 7))\n",
    "plt.plot(diamond_princess_first_50_days['Day'],diamond_princess_first_50_days['CONFIRMED'], marker='.', color='blue')\n",
    "plt.plot(diamond_princess_first_50_days['Day'],diamond_princess_first_50_days['DEATHS'],  marker='.', color='red')\n",
    "plt.plot(diamond_princess_first_50_days['Day'],diamond_princess_first_50_days['RECOVERED'],  marker='.', color='green')\n",
    "plt.title('Increase of Infection Over First 50 Days for Diamond Princess')\n",
    "plt.xlabel('Day (Since First Case)')\n",
    "plt.ylabel('Number of Confirmed Cases')\n",
    "    #plt.grid(True, which='both', linestyle='--', linewidth=0.5)\n",
    "plt.tight_layout()\n",
    "plt.show()"
   ]
  },
  {
   "cell_type": "code",
   "execution_count": 20,
   "metadata": {},
   "outputs": [
    {
     "data": {
      "text/plain": [
       "array([[ 6.10000000e+01,  0.00000000e+00,  0.00000000e+00],\n",
       "       [ 6.82907179e+01,  2.00000000e-01,  1.20270344e+00],\n",
       "       [ 4.27544833e+01,  4.00000000e-01,  1.50264952e+00],\n",
       "       [-2.09183874e+01,  6.00000000e-01,  9.82686615e-01],\n",
       "       [-1.39203323e+02,  8.00000000e-01, -2.74336882e-01],\n",
       "       [-3.41375484e+02,  1.00000000e+00, -2.18557258e+00],\n",
       "       [-6.78208436e+02,  1.20000000e+00, -4.66817211e+00],\n",
       "       [-1.22156905e+03,  1.40000000e+00, -7.63928706e+00],\n",
       "       [-2.10444407e+03,  1.60000000e+00, -1.10160691e+01],\n",
       "       [-3.64685407e+03,  1.80000000e+00, -1.47156697e+01],\n",
       "       [-6.38869075e+03,  2.00000000e+00, -1.86552406e+01],\n",
       "       [-1.13144846e+04,  2.20000000e+00, -2.27519334e+01],\n",
       "       [-2.04327877e+04,  2.40000000e+00, -2.69228997e+01],\n",
       "       [-3.85162673e+04,  2.60000000e+00, -3.10852911e+01],\n",
       "       [-7.49392992e+04,  2.80000000e+00, -3.51562592e+01],\n",
       "       [-1.50145708e+05,  3.00000000e+00, -3.90529557e+01],\n",
       "       [-3.16508709e+05,  3.20000000e+00, -4.26925320e+01],\n",
       "       [-6.86207026e+05,  3.40000000e+00, -4.59921400e+01],\n",
       "       [-1.55706830e+06,  3.60000000e+00, -4.88689311e+01],\n",
       "       [-3.70105500e+06,  3.80000000e+00, -5.12400570e+01],\n",
       "       [-9.01181237e+06,  4.00000000e+00, -5.30226693e+01],\n",
       "       [-2.33076288e+07,  4.20000000e+00, -5.41339196e+01],\n",
       "       [-6.16059543e+07,  4.40000000e+00, -5.44909595e+01],\n",
       "       [-1.72559962e+08,  4.60000000e+00, -5.40109406e+01],\n",
       "       [-4.96093785e+08,  4.80000000e+00, -5.26110146e+01],\n",
       "       [-1.50799047e+09,  5.00000000e+00, -5.02083330e+01],\n",
       "       [-4.70543163e+09,  5.20000000e+00, -4.67200476e+01],\n",
       "       [-1.54979554e+10,  5.40000000e+00, -4.20633097e+01],\n",
       "       [-5.26981877e+10,  5.60000000e+00, -3.61552712e+01],\n",
       "       [-1.86748222e+11,  5.80000000e+00, -2.89130836e+01],\n",
       "       [-6.94713114e+11,  6.00000000e+00, -2.02538985e+01],\n",
       "       [-2.67101388e+12,  6.20000000e+00, -1.00948676e+01],\n",
       "       [-1.06976192e+13,  6.40000000e+00,  1.64685767e+00],\n",
       "       [-4.48672365e+13,  6.60000000e+00,  1.50541255e+01],\n",
       "       [-1.95938553e+14,  6.80000000e+00,  3.02097844e+01],\n",
       "       [-8.88069993e+14,  7.00000000e+00,  4.71966827e+01],\n",
       "       [-4.19327790e+15,  7.20000000e+00,  6.60976689e+01],\n",
       "       [-2.06323905e+16,  7.40000000e+00,  8.69955912e+01],\n",
       "       [-1.05879721e+17,  7.60000000e+00,  1.09973298e+02],\n",
       "       [-5.66377118e+17,  7.80000000e+00,  1.35113638e+02],\n",
       "       [-3.15606912e+18,  8.00000000e+00,  1.62499459e+02],\n",
       "       [-1.83147240e+19,  8.20000000e+00,  1.92213610e+02],\n",
       "       [-1.10673207e+20,  8.40000000e+00,  2.24338939e+02],\n",
       "       [-6.96433829e+20,  8.60000000e+00,  2.58958295e+02],\n",
       "       [-4.56377226e+21,  8.80000000e+00,  2.96154525e+02],\n",
       "       [-3.11476796e+22,  9.00000000e+00,  3.36010479e+02],\n",
       "       [-2.21479524e+23,  9.20000000e+00,  3.78609005e+02],\n",
       "       [-1.64164681e+24,  9.40000000e+00,  4.24032950e+02],\n",
       "       [-1.26873776e+25,  9.60000000e+00,  4.72365164e+02],\n",
       "       [-1.02133310e+26,  9.80000000e+00,  5.23688495e+02]])"
      ]
     },
     "execution_count": 20,
     "metadata": {},
     "output_type": "execute_result"
    }
   ],
   "source": [
    "u_comp_approximation"
   ]
  },
  {
   "cell_type": "code",
   "execution_count": 80,
   "metadata": {},
   "outputs": [],
   "source": [
    "from sklearn.preprocessing import MinMaxScaler\n",
    "from sklearn.preprocessing import StandardScaler\n",
    "scaler1 = MinMaxScaler()\n",
    "scaler2 = StandardScaler()\n",
    "scaler3 = MinMaxScaler()\n",
    "scaler4 = StandardScaler()"
   ]
  },
  {
   "cell_type": "code",
   "execution_count": 81,
   "metadata": {},
   "outputs": [],
   "source": [
    "U_nrm = scaler1.fit_transform(U_comp)\n",
    "U_std = scaler2.fit_transform(U_comp)\n",
    "T_norm=scaler3.fit_transform(T)\n",
    "T_std=scaler4.fit_transform(T)"
   ]
  },
  {
   "cell_type": "code",
   "execution_count": 69,
   "metadata": {},
   "outputs": [
    {
     "name": "stdout",
     "output_type": "stream",
     "text": [
      "0\n"
     ]
    },
    {
     "name": "stderr",
     "output_type": "stream",
     "text": [
      "C:\\Users\\fisay\\AppData\\Roaming\\Python\\Python39\\site-packages\\derivative\\differentiation.py:199: VisibleDeprecationWarning: Creating an ndarray from ragged nested sequences (which is a list-or-tuple of lists-or-tuples-or ndarrays with different lengths or shapes) is deprecated. If you meant to do this, you must specify 'dtype=object' when creating the ndarray.\n",
      "  dX = np.array([list(self.compute_for(t, x, np.arange(len(t)))) for x in X])\n"
     ]
    }
   ],
   "source": [
    "\n",
    "testings3=SINDY(U=U_nrm,T=T_norm,u0=U_nrm[0],derivation=\"total\",POLYNOMIAL_ORDER = 2,USE_TRIG = False,THRESHOLD = 0.025,MAX_ITERATIONS = 10)\n",
    "u_comp_nrm=testings3.compute_trajectory()"
   ]
  },
  {
   "cell_type": "code",
   "execution_count": 70,
   "metadata": {},
   "outputs": [
    {
     "data": {
      "text/plain": [
       "array([[  2.49024272,   2.39705397,   2.40114496],\n",
       "       [ -5.97985709,  -6.69953099,  -6.75635125],\n",
       "       [ -8.66788889,  -6.07940011,  -8.68996124],\n",
       "       [-37.15395278, -94.97580011, -90.28915998],\n",
       "       [  4.16959201,   5.31880162,   5.40042883],\n",
       "       [ 10.30225637,   6.06949085,   9.320269  ],\n",
       "       [ 33.3855566 ,  93.77091487,  88.01687993],\n",
       "       [ -1.66844907,   0.17297885,  -0.95586037],\n",
       "       [  5.57755725,   1.22577863,   3.53563505],\n",
       "       [ -1.4284359 ,  -0.17109615,  -0.95357739]])"
      ]
     },
     "execution_count": 70,
     "metadata": {},
     "output_type": "execute_result"
    }
   ],
   "source": [
    "testings3.xi"
   ]
  },
  {
   "cell_type": "code",
   "execution_count": 97,
   "metadata": {},
   "outputs": [
    {
     "data": {
      "text/plain": [
       "0.6749724409594013"
      ]
     },
     "execution_count": 97,
     "metadata": {},
     "output_type": "execute_result"
    }
   ],
   "source": [
    "U_comp_un_nrm=scaler1.inverse_transform(u_comp_nrm)\n",
    "CalcAccuracy(U_comp,U_comp_un_nrm)"
   ]
  },
  {
   "cell_type": "code",
   "execution_count": 123,
   "metadata": {},
   "outputs": [
    {
     "name": "stdout",
     "output_type": "stream",
     "text": [
      "0\n"
     ]
    },
    {
     "name": "stderr",
     "output_type": "stream",
     "text": [
      "c:\\ProgramData\\Anaconda3\\lib\\site-packages\\sklearn\\linear_model\\_coordinate_descent.py:647: ConvergenceWarning: Objective did not converge. You might want to increase the number of iterations, check the scale of the features or consider increasing regularisation. Duality gap: 3.601e-03, tolerance: 3.554e-03\n",
      "  model = cd_fast.enet_coordinate_descent(\n",
      "c:\\ProgramData\\Anaconda3\\lib\\site-packages\\sklearn\\linear_model\\_coordinate_descent.py:647: ConvergenceWarning: Objective did not converge. You might want to increase the number of iterations, check the scale of the features or consider increasing regularisation. Duality gap: 4.660e-04, tolerance: 4.493e-04\n",
      "  model = cd_fast.enet_coordinate_descent(\n",
      "C:\\Users\\fisay\\AppData\\Roaming\\Python\\Python39\\site-packages\\derivative\\differentiation.py:199: VisibleDeprecationWarning: Creating an ndarray from ragged nested sequences (which is a list-or-tuple of lists-or-tuples-or ndarrays with different lengths or shapes) is deprecated. If you meant to do this, you must specify 'dtype=object' when creating the ndarray.\n",
      "  dX = np.array([list(self.compute_for(t, x, np.arange(len(t)))) for x in X])\n"
     ]
    }
   ],
   "source": [
    "\n",
    "testings4=SINDY(U=U_std,T=T_std,u0=U_std[0],derivation=\"total\",POLYNOMIAL_ORDER = 2,USE_TRIG = False,THRESHOLD = 0.025,MAX_ITERATIONS = 10)\n",
    "u_comp_std=testings4.compute_trajectory()"
   ]
  },
  {
   "cell_type": "code",
   "execution_count": 124,
   "metadata": {},
   "outputs": [
    {
     "data": {
      "text/plain": [
       "array([[ -5.35542076,  -7.90757393,  -9.67845773],\n",
       "       [  9.54698069,  13.9436059 ,  17.22920365],\n",
       "       [  0.98248533,   0.        ,  -0.10311471],\n",
       "       [ -8.2312734 , -10.1790843 , -12.57512396],\n",
       "       [  0.59476158,   0.69758156,   0.78079185],\n",
       "       [ -0.32343319,   0.92985488,   0.65022071],\n",
       "       [ 13.49810525,  16.72444389,  21.35752868],\n",
       "       [  0.31487679,   0.12793196,   0.29935385],\n",
       "       [ -0.18728087,  -0.06405571,  -0.50006195],\n",
       "       [  0.10070906,   0.30133283,   0.42029523]])"
      ]
     },
     "execution_count": 124,
     "metadata": {},
     "output_type": "execute_result"
    }
   ],
   "source": [
    "testings4.xi"
   ]
  },
  {
   "cell_type": "code",
   "execution_count": 121,
   "metadata": {},
   "outputs": [],
   "source": [
    "U_comp_un_std=scaler2.inverse_transform(u_comp_std)"
   ]
  },
  {
   "cell_type": "code",
   "execution_count": 122,
   "metadata": {},
   "outputs": [
    {
     "data": {
      "text/plain": [
       "0.7413594955301286"
      ]
     },
     "execution_count": 122,
     "metadata": {},
     "output_type": "execute_result"
    }
   ],
   "source": [
    "CalcAccuracy(U_comp,U_comp_un_std)"
   ]
  },
  {
   "cell_type": "code",
   "execution_count": null,
   "metadata": {},
   "outputs": [],
   "source": []
  }
 ],
 "metadata": {
  "kernelspec": {
   "display_name": "base",
   "language": "python",
   "name": "python3"
  },
  "language_info": {
   "codemirror_mode": {
    "name": "ipython",
    "version": 3
   },
   "file_extension": ".py",
   "mimetype": "text/x-python",
   "name": "python",
   "nbconvert_exporter": "python",
   "pygments_lexer": "ipython3",
   "version": "3.9.13"
  },
  "vscode": {
   "interpreter": {
    "hash": "9d6866e9f614e05fca89e1c72d21fa4e6410604c1bc12dd3d2df6b222f458453"
   }
  }
 },
 "nbformat": 4,
 "nbformat_minor": 2
}
